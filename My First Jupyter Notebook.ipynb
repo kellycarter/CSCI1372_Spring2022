{
 "cells": [
  {
   "cell_type": "code",
   "execution_count": 1,
   "id": "98d1b72d",
   "metadata": {},
   "outputs": [
    {
     "name": "stdout",
     "output_type": "stream",
     "text": [
      "Hello World!\n"
     ]
    }
   ],
   "source": [
    "print('Hello World!')"
   ]
  },
  {
   "cell_type": "code",
   "execution_count": 2,
   "id": "ca08c6cf",
   "metadata": {},
   "outputs": [
    {
     "name": "stdout",
     "output_type": "stream",
     "text": [
      "The Miles Per Gallon program\n",
      "\n",
      "Enter miles driven:\t\t1200\n",
      "Enter gallons of gas used:\t120\n",
      "Enter cost per gallon:\t\t3.29\n",
      "\n",
      "Miles Per Gallon:\t\t10.0\n",
      "Total Gas Cost:\t\t\t394.8\n",
      "Cost Per Mile:\t\t\t0.3\n",
      "\n",
      "Bye!\n"
     ]
    }
   ],
   "source": [
    "#!/usr/bin/env python3\n",
    "\n",
    "# display a welcome message\n",
    "print(\"The Miles Per Gallon program\")\n",
    "print()\n",
    "\n",
    "# get input from the user\n",
    "miles_driven= float(input(\"Enter miles driven:\\t\\t\"))\n",
    "gallons_used = float(input(\"Enter gallons of gas used:\\t\"))\n",
    "cost_per_gallon = float(input(\"Enter cost per gallon:\\t\\t\"))\n",
    "\n",
    "# calculate miles per gallon\n",
    "#mpg = miles_driven / gallons_used\n",
    "mpg = round(miles_driven/gallons_used, 1)\n",
    "\n",
    "# calculate total gas cost\n",
    "gas_cost = round(gallons_used * cost_per_gallon, 1)\n",
    "\n",
    "# calculate cost per mile\n",
    "cpm = round(gas_cost / miles_driven, 1)\n",
    "            \n",
    "# format and display the result\n",
    "print()\n",
    "print(f\"Miles Per Gallon:\\t\\t{mpg}\")\n",
    "print(f\"Total Gas Cost:\\t\\t\\t{gas_cost}\")\n",
    "print(f\"Cost Per Mile:\\t\\t\\t{cpm}\")\n",
    "print()\n",
    "print(\"Bye!\")"
   ]
  },
  {
   "cell_type": "markdown",
   "id": "9ae87145",
   "metadata": {},
   "source": [
    "Fill in pieces..."
   ]
  },
  {
   "cell_type": "code",
   "execution_count": 13,
   "id": "e6dadf36",
   "metadata": {},
   "outputs": [],
   "source": [
    "original = ' Python strings are COOL! '\n",
    "lower_cased = original.lower()\n",
    "stripped = original.strip()\n",
    "stripped_lower_cased = original.strip().lower()"
   ]
  },
  {
   "cell_type": "markdown",
   "id": "aff2e0d5",
   "metadata": {},
   "source": [
    "Test the correctness of the code above..."
   ]
  },
  {
   "cell_type": "code",
   "execution_count": 14,
   "id": "7a5e7f6e",
   "metadata": {},
   "outputs": [],
   "source": [
    "assert lower_cased == ' python strings are cool! '\n",
    "assert stripped == 'Python strings are COOL!'\n",
    "assert stripped_lower_cased == 'python strings are cool!'"
   ]
  },
  {
   "cell_type": "markdown",
   "id": "33a4a536",
   "metadata": {},
   "source": [
    "Here is my reference code that is correct."
   ]
  },
  {
   "cell_type": "code",
   "execution_count": 15,
   "id": "10428337",
   "metadata": {},
   "outputs": [
    {
     "name": "stdout",
     "output_type": "stream",
     "text": [
      "The Miles Per Gallon program\n",
      "\n",
      "Enter miles driven:\t\t100\n",
      "Enter gallons of gas used:\t10\n",
      "Enter cost per gallon:\t\t1\n",
      "\n",
      "Miles Per Gallon:\t\t10.0\n",
      "Total Gas Cost:\t\t\t10.0\n",
      "Cost Per Mile:\t\t\t3.9\n",
      "\n",
      "Bye!\n"
     ]
    }
   ],
   "source": [
    "#!/usr/bin/env python3\n",
    "\n",
    "# display a welcome message\n",
    "print(\"The Miles Per Gallon program\")\n",
    "print()\n",
    "\n",
    "# get input from the user\n",
    "miles_driven= float(input(\"Enter miles driven:\\t\\t\"))\n",
    "gallons_used = float(input(\"Enter gallons of gas used:\\t\"))\n",
    "cost_per_gallon = float(input(\"Enter cost per gallon:\\t\\t\"))\n",
    "\n",
    "# calculate miles per gallon\n",
    "#mpg = miles_driven / gallons_used\n",
    "mpg_kdc = round(miles_driven/gallons_used, 1)\n",
    "\n",
    "# calculate total gas cost\n",
    "gas_cost_kdc = round(gallons_used * cost_per_gallon, 1)\n",
    "\n",
    "# calculate cost per mile\n",
    "cpm_kdc = round(gas_cost / miles_driven, 1)\n",
    "            \n",
    "# format and display the result\n",
    "print()\n",
    "print(f\"Miles Per Gallon:\\t\\t{mpg_kdc}\")\n",
    "print(f\"Total Gas Cost:\\t\\t\\t{gas_cost_kdc}\")\n",
    "print(f\"Cost Per Mile:\\t\\t\\t{cpm_kdc}\")\n",
    "print()\n",
    "print(\"Bye!\")"
   ]
  },
  {
   "cell_type": "markdown",
   "id": "bb067ae4",
   "metadata": {},
   "source": [
    "Paste and run your code below"
   ]
  },
  {
   "cell_type": "code",
   "execution_count": 18,
   "id": "d6996d99",
   "metadata": {},
   "outputs": [
    {
     "name": "stdout",
     "output_type": "stream",
     "text": [
      "The Miles Per Gallon program\n",
      "\n",
      "Enter miles driven:\t\t200\n",
      "Enter gallons of gas used:\t12\n",
      "Enter cost per gallon:\t\t4\n",
      "\n",
      "Miles Per Gallon:\t\t16.67\n",
      "Total Gas Cost:\t\t\t48.0\n",
      "Cost Per Mile:\t\t\t0.24\n",
      "\n",
      "Bye!\n"
     ]
    }
   ],
   "source": [
    "#!/usr/bin/env python3\n",
    "\n",
    "# display a welcome message\n",
    "print(\"The Miles Per Gallon program\")\n",
    "print()\n",
    "\n",
    "# get input from the user\n",
    "miles_driven= float(input(\"Enter miles driven:\\t\\t\"))\n",
    "gallons_used = float(input(\"Enter gallons of gas used:\\t\"))\n",
    "cost_per_gallon = float(input(\"Enter cost per gallon:\\t\\t\"))\n",
    "\n",
    "# calculate miles per gallon\n",
    "#mpg = miles_driven / gallons_used\n",
    "mpg = round(miles_driven/gallons_used, 2)\n",
    "\n",
    "# calculate total gas cost\n",
    "gas_cost = round(gallons_used * cost_per_gallon, 2)\n",
    "\n",
    "# calculate cost per mile\n",
    "cpm = round(gas_cost / miles_driven, 2)\n",
    "            \n",
    "# format and display the result\n",
    "print()\n",
    "print(f\"Miles Per Gallon:\\t\\t{mpg}\")\n",
    "print(f\"Total Gas Cost:\\t\\t\\t{gas_cost}\")\n",
    "print(f\"Cost Per Mile:\\t\\t\\t{cpm}\")\n",
    "print()\n",
    "print(\"Bye!\")"
   ]
  },
  {
   "cell_type": "markdown",
   "id": "fab07d9f",
   "metadata": {},
   "source": [
    "Compare the results of your code (correctness not yet known) with my code (known to be correct)."
   ]
  },
  {
   "cell_type": "code",
   "execution_count": 19,
   "id": "272fdb56",
   "metadata": {},
   "outputs": [
    {
     "ename": "AssertionError",
     "evalue": "",
     "output_type": "error",
     "traceback": [
      "\u001b[1;31m---------------------------------------------------------------------------\u001b[0m",
      "\u001b[1;31mAssertionError\u001b[0m                            Traceback (most recent call last)",
      "\u001b[1;32m~\\AppData\\Local\\Temp/ipykernel_19260/2895790279.py\u001b[0m in \u001b[0;36m<module>\u001b[1;34m\u001b[0m\n\u001b[1;32m----> 1\u001b[1;33m \u001b[1;32massert\u001b[0m \u001b[0mmpg\u001b[0m \u001b[1;33m==\u001b[0m \u001b[0mmpg_kdc\u001b[0m\u001b[1;33m\u001b[0m\u001b[1;33m\u001b[0m\u001b[0m\n\u001b[0m",
      "\u001b[1;31mAssertionError\u001b[0m: "
     ]
    }
   ],
   "source": [
    "assert mpg == mpg_kdc"
   ]
  },
  {
   "cell_type": "code",
   "execution_count": null,
   "id": "8d965181",
   "metadata": {},
   "outputs": [],
   "source": []
  }
 ],
 "metadata": {
  "kernelspec": {
   "display_name": "Python 3 (ipykernel)",
   "language": "python",
   "name": "python3"
  },
  "language_info": {
   "codemirror_mode": {
    "name": "ipython",
    "version": 3
   },
   "file_extension": ".py",
   "mimetype": "text/x-python",
   "name": "python",
   "nbconvert_exporter": "python",
   "pygments_lexer": "ipython3",
   "version": "3.9.7"
  }
 },
 "nbformat": 4,
 "nbformat_minor": 5
}
